{
 "cells": [
  {
   "cell_type": "code",
   "execution_count": 1,
   "metadata": {},
   "outputs": [],
   "source": [
    "import matplotlib.pyplot as plt\n",
    "from IPython.display import clear_output\n",
    "from multiTracker import CentroidTracker"
   ]
  },
  {
   "cell_type": "code",
   "execution_count": 2,
   "metadata": {},
   "outputs": [],
   "source": [
    "import numpy as np\n",
    "import imutils\n",
    "import cv2\n",
    "cap = cv2.VideoCapture('depthData/depth_vids1/14.avi')\n",
    "import time"
   ]
  },
  {
   "cell_type": "code",
   "execution_count": 3,
   "metadata": {},
   "outputs": [],
   "source": [
    "#Thresholds\n",
    "\n",
    "KERNEL_MORPH_DILATE_SIZE=25\n",
    "KERNEL_DILATE_ITER=5\n",
    "CONTOUR_AREA_MIN=70*70\n",
    "CONTOUR_AREA_MAX=180*180\n",
    "#DEPTH_IMAGE_MAX=5000\n",
    "DEPTH_MASK_THRESH=150\n",
    "THRESH_RETAIN_PEAKS = 235\n",
    "KERNEL_MORPH_OPEN_SIZE=9\n",
    "\n",
    "TRACKER_RETAIN_FRAMES=10\n",
    "TRACKER_MAX_DIST_THESH=80\n",
    "TRACKER_LINE_BOUNDARY=300\n",
    "THRESH_RATIO_AREA=0.55\n",
    "THRESH_WH_RATIO=0.75\n",
    "\n",
    "ROI_STARTX=10\n",
    "ROI_STARTY=350\n",
    "\n",
    "ROI_ENDX=420\n",
    "ROI_ENDY=920"
   ]
  },
  {
   "cell_type": "code",
   "execution_count": 4,
   "metadata": {},
   "outputs": [],
   "source": [
    "\n",
    "kernel_size=KERNEL_MORPH_DILATE_SIZE\n",
    "kernel_size_open= KERNEL_MORPH_OPEN_SIZE\n",
    "kernel = np.ones((kernel_size,kernel_size),np.uint8)\n",
    "kernel2 = np.ones((kernel_size_open,kernel_size_open),np.uint8)\n",
    "\n",
    "def findHead(image,kernel_size=25,thresh_rem=THRESH_RETAIN_PEAKS, show= 0):\n",
    "    \n",
    "    #Get the binary mask\n",
    "    image[image>230]=0\n",
    "    displayx(image,\"orig\",show)\n",
    "    thresh = cv2.threshold(image, DEPTH_MASK_THRESH, 255,cv2.THRESH_BINARY)[1]\n",
    "    displayx(thresh,\"mask\",show)\n",
    "    thresh[thresh==255]=1\n",
    "    \n",
    "    #Apply dilate op-> replace all the values with local maximaum\n",
    "    dilated = cv2.dilate(image,kernel,iterations=5)\n",
    "    displayx(dilated,\"dilated\",show)\n",
    "    \n",
    "    #Aplly mask on dilated image\n",
    "    res= dilated*thresh\n",
    "    displayx(res,\"final dilated\",show)\n",
    "    \n",
    "    #Subtract the dilated image from original->the local maxima valuea will be ~= 0\n",
    "    res= res-image\n",
    "    displayx(res,\"\",show)\n",
    "    \n",
    "    #replace the unmasked values with max so that we get boundary of maxima\n",
    "    res[thresh==0]=255\n",
    "    displayx(res,\"\",show)\n",
    "   \n",
    "    #Inverse the image-> maxima become highlighted\n",
    "    res= 255-res\n",
    "    displayx(res,\"\",show)\n",
    "    \n",
    "    #Apply threshold to extract just the maxima(top values)\n",
    "    res[res< thresh_rem] =0\n",
    "    displayx(res,\"\",show)\n",
    "    \n",
    "    #Apply closing operation to remove holes from the max values\n",
    "    res= cv2.morphologyEx(res, cv2.MORPH_OPEN, kernel2)\n",
    "    \n",
    "    displayx(res,\"final\",show)\n",
    "    return res"
   ]
  },
  {
   "cell_type": "code",
   "execution_count": 5,
   "metadata": {},
   "outputs": [],
   "source": [
    "def displayx(img,title,show=0):\n",
    "    if show==0 :\n",
    "        return\n",
    "    plt.figure(figsize=(10, 8))\n",
    "    plt.imshow(img)\n",
    "    plt.title(title) \n",
    "    plt.show()"
   ]
  },
  {
   "cell_type": "code",
   "execution_count": 6,
   "metadata": {},
   "outputs": [],
   "source": [
    "def overlap(circle,circles):\n",
    "    ((x,y),r)=circle\n",
    "    for circle1 in circles:\n",
    "        ((x1,y1),r1)=circle1\n",
    "        # check if distance between centres is less than r1 + r2\n",
    "        if (x1 - x)*(x1 - x) + (y1 - y)*(y1 - y) < (r1+r)*(r1+r):\n",
    "            return True\n",
    "    return False"
   ]
  },
  {
   "cell_type": "code",
   "execution_count": 7,
   "metadata": {},
   "outputs": [],
   "source": [
    "def preprocess(cnts):\n",
    "    circles=[]\n",
    "    for cnt in cnts:\n",
    "        #get the area\n",
    "        area = cv2.contourArea(cnt)\n",
    "        # apply the threshold to get contours with reasonable area\n",
    "        if area > CONTOUR_AREA_MIN  and area < CONTOUR_AREA_MAX:\n",
    "            x,y,w,h = cv2.boundingRect(cnt)\n",
    "            wh_ratio=w/h\n",
    "            #Check width to height ratio is in reasonable range\n",
    "            if(wh_ratio> THRESH_WH_RATIO and wh_ratio < 1/THRESH_WH_RATIO):\n",
    "                circle = cv2.minEnclosingCircle(cnt)\n",
    "                ((cx,cy),r)=circle\n",
    "                circle_area = 22/7*r*r\n",
    "                #Check if the actual area and enclosing circle area is in reasonable range\n",
    "                ratio= area/circle_area\n",
    "                if ratio > THRESH_RATIO_AREA and r>60:\n",
    "                    circles.append(circle)\n",
    "                    #Check if there exists and overlapping circle already\n",
    "                    #if overlap(circle,circles): continue\n",
    "    return circles"
   ]
  },
  {
   "cell_type": "code",
   "execution_count": 10,
   "metadata": {},
   "outputs": [
    {
     "name": "stdout",
     "output_type": "stream",
     "text": [
      "FPS:  177.4379128654315 100 0.56357741355896\n",
      "FPS:  104.37868450083903 200 1.916100025177002\n",
      "FPS:  70.0018636881777 300 4.285600185394287\n",
      "FPS:  58.86849245651228 400 6.794806241989136\n",
      "FPS:  66.00708223228521 500 7.574944734573364\n",
      "FPS:  59.382300359361466 600 10.104020833969116\n",
      "FPS:  65.56573581741827 700 10.676308155059814\n",
      "FPS:  67.72960720462251 800 11.811673402786255\n",
      "FPS:  50.56702130271733 900 17.798161268234253\n",
      "FPS:  54.28513235015338 1000 18.421250104904175\n",
      "FPS:  54.459269941021844 1100 20.19858145713806\n",
      "FPS:  46.50160127312466 1200 25.80556297302246\n",
      "FPS:  45.59804379988404 1300 28.509994983673096\n",
      "FPS:  47.18499917631518 1400 29.670446634292603\n",
      "FPS:  48.58112509668901 1500 30.87618899345398\n",
      "FPS:  47.994389503212616 1600 33.33722996711731\n",
      "FPS:  49.15850819339747 1700 34.5820095539093\n"
     ]
    },
    {
     "ename": "KeyboardInterrupt",
     "evalue": "",
     "output_type": "error",
     "traceback": [
      "\u001b[0;31m---------------------------------------------------------------------------\u001b[0m",
      "\u001b[0;31mKeyboardInterrupt\u001b[0m                         Traceback (most recent call last)",
      "\u001b[0;32m<ipython-input-10-f337a759b73d>\u001b[0m in \u001b[0;36m<module>\u001b[0;34m\u001b[0m\n\u001b[1;32m     29\u001b[0m \u001b[0;34m\u001b[0m\u001b[0m\n\u001b[1;32m     30\u001b[0m \u001b[0;31m#       # Display output\u001b[0m\u001b[0;34m\u001b[0m\u001b[0;34m\u001b[0m\u001b[0;34m\u001b[0m\u001b[0m\n\u001b[0;32m---> 31\u001b[0;31m         \u001b[0mobjects\u001b[0m\u001b[0;34m,\u001b[0m\u001b[0mradius\u001b[0m\u001b[0;34m,\u001b[0m\u001b[0mboxes\u001b[0m \u001b[0;34m=\u001b[0m \u001b[0mtracker\u001b[0m\u001b[0;34m.\u001b[0m\u001b[0mupdate\u001b[0m\u001b[0;34m(\u001b[0m\u001b[0mcircles\u001b[0m\u001b[0;34m,\u001b[0m\u001b[0mgray\u001b[0m\u001b[0;34m)\u001b[0m\u001b[0;34m\u001b[0m\u001b[0;34m\u001b[0m\u001b[0m\n\u001b[0m\u001b[1;32m     32\u001b[0m         \u001b[0mduration\u001b[0m \u001b[0;34m+=\u001b[0m \u001b[0mtime\u001b[0m\u001b[0;34m.\u001b[0m\u001b[0mtime\u001b[0m\u001b[0;34m(\u001b[0m\u001b[0;34m)\u001b[0m\u001b[0;34m-\u001b[0m\u001b[0mstart\u001b[0m\u001b[0;34m\u001b[0m\u001b[0;34m\u001b[0m\u001b[0m\n\u001b[1;32m     33\u001b[0m         \u001b[0;32mif\u001b[0m\u001b[0;34m(\u001b[0m\u001b[0mk\u001b[0m\u001b[0;34m%\u001b[0m\u001b[0;36m100\u001b[0m\u001b[0;34m==\u001b[0m\u001b[0;36m0\u001b[0m\u001b[0;34m)\u001b[0m\u001b[0;34m:\u001b[0m\u001b[0;34m\u001b[0m\u001b[0;34m\u001b[0m\u001b[0m\n",
      "\u001b[0;32m~/depth/multiTracker.py\u001b[0m in \u001b[0;36mupdate\u001b[0;34m(self, circles, frame)\u001b[0m\n\u001b[1;32m     94\u001b[0m             \u001b[0;32mif\u001b[0m \u001b[0mself\u001b[0m\u001b[0;34m.\u001b[0m\u001b[0mcount\u001b[0m \u001b[0;34m%\u001b[0m \u001b[0mself\u001b[0m\u001b[0;34m.\u001b[0m\u001b[0mskipUpdate\u001b[0m\u001b[0;34m==\u001b[0m\u001b[0;36m0\u001b[0m\u001b[0;34m:\u001b[0m\u001b[0;34m\u001b[0m\u001b[0;34m\u001b[0m\u001b[0m\n\u001b[1;32m     95\u001b[0m                 \u001b[0mself\u001b[0m\u001b[0;34m.\u001b[0m\u001b[0mreInitTracker\u001b[0m\u001b[0;34m(\u001b[0m\u001b[0mframe\u001b[0m\u001b[0;34m)\u001b[0m\u001b[0;34m\u001b[0m\u001b[0;34m\u001b[0m\u001b[0m\n\u001b[0;32m---> 96\u001b[0;31m             \u001b[0msuccess\u001b[0m\u001b[0;34m,\u001b[0m \u001b[0mtrackedBoxes\u001b[0m \u001b[0;34m=\u001b[0m \u001b[0mself\u001b[0m\u001b[0;34m.\u001b[0m\u001b[0mmultiTracker\u001b[0m\u001b[0;34m.\u001b[0m\u001b[0mupdate\u001b[0m\u001b[0;34m(\u001b[0m\u001b[0mframe\u001b[0m\u001b[0;34m)\u001b[0m\u001b[0;34m\u001b[0m\u001b[0;34m\u001b[0m\u001b[0m\n\u001b[0m\u001b[1;32m     97\u001b[0m             \u001b[0;31m#print(len(list(self.objects.keys())),)\u001b[0m\u001b[0;34m\u001b[0m\u001b[0;34m\u001b[0m\u001b[0;34m\u001b[0m\u001b[0m\n\u001b[1;32m     98\u001b[0m         \u001b[0;32mif\u001b[0m \u001b[0mlen\u001b[0m\u001b[0;34m(\u001b[0m\u001b[0mcircles\u001b[0m\u001b[0;34m)\u001b[0m \u001b[0;34m==\u001b[0m \u001b[0;36m0\u001b[0m\u001b[0;34m:\u001b[0m\u001b[0;34m\u001b[0m\u001b[0;34m\u001b[0m\u001b[0m\n",
      "\u001b[0;31mKeyboardInterrupt\u001b[0m: "
     ]
    }
   ],
   "source": [
    "import os\n",
    "k=0\n",
    "duration=0\n",
    "#Instantiate the tracker\n",
    "tracker = CentroidTracker(TRACKER_RETAIN_FRAMES,TRACKER_MAX_DIST_THESH,TRACKER_LINE_BOUNDARY,10)\n",
    "for l in range (2,22):\n",
    "    cap = cv2.VideoCapture('depthData/depth_vids1/'+str(l)+'.avi')\n",
    "    #tracker = CentroidTracker(4,50,250)\n",
    "    direc = 'frames_vid_13'\n",
    "    #os.mkdir(direc)\n",
    "    \n",
    "    while(cap.isOpened()):\n",
    "        start = time.time()\n",
    "        ret, frame = cap.read()\n",
    "        if ret<=0:\n",
    "            break\n",
    "        k+=1\n",
    "        \n",
    "        gray = cv2.cvtColor(frame, cv2.COLOR_BGR2GRAY)\n",
    "        gray =gray[ROI_STARTX:ROI_ENDX,ROI_STARTY:ROI_ENDY]\n",
    "        final = findHead(255-gray)\n",
    "\n",
    "        #Get all Contours\n",
    "        cnts = cv2.findContours(final.copy(), cv2.RETR_EXTERNAL,cv2.CHAIN_APPROX_SIMPLE)\n",
    "        cnts = imutils.grab_contours(cnts)\n",
    "        \n",
    "        #Preprocess the contours\n",
    "        circles= preprocess(cnts)\n",
    "\n",
    "#       # Display output\n",
    "        objects,radius,boxes = tracker.update(circles,gray)\n",
    "        duration += time.time()-start\n",
    "        if(k%100==0):\n",
    "            print('FPS: ',k/duration,k,duration)\n",
    "#         if boxes is not None:\n",
    "#             for i, newbox in enumerate(boxes):\n",
    "#                 p1 = (int(newbox[0]), int(newbox[1]))\n",
    "#                 p2 = (int(newbox[0] + newbox[2]), int(newbox[1] + newbox[3]))\n",
    "#                 #cv2.rectangle(gray, p1, p2, (255, 255, 255), 2, 1)\n",
    "#         #print (objects)\n",
    "#         # loop over the tracked objects\n",
    "#         for (objectID, centroid) in objects.items():\n",
    "#             # draw both the ID of the object and the centroid of the\n",
    "#             # object on the output frame\n",
    "#             text = \"ID {}\".format(objectID)\n",
    "#             cv2.putText(gray, text, (int(centroid[0]) - 10, int(centroid[1]) - 10),cv2.FONT_HERSHEY_SIMPLEX, 0.5, (255, 255, 255), 2)\n",
    "#             cv2.circle(gray, (int(centroid[0]),int(centroid[1])), radius[objectID], (255, 255, 255), 2)\n",
    "        \n",
    "#         #Draw counter info\n",
    "#         counter_text = 'IN: '+str(tracker.personIn)+ \"  OUT: \" +str(tracker.personOut)\n",
    "#         cv2.putText(gray, counter_text, (20,20),cv2.FONT_HERSHEY_SIMPLEX, 0.5, (255, 255, 255), 2)\n",
    "#         cv2.putText(gray, str(k), (20,100),cv2.FONT_HERSHEY_SIMPLEX, 0.5, (255, 255, 255), 2)\n",
    "#         cv2.line(gray, (0,300), (600,300), (255, 255, 255), 2)\n",
    "        \n",
    "#         #Plot Image\n",
    "#         displayx(gray,\"output\",1)\n",
    "#         clear_output(wait=True)"
   ]
  },
  {
   "cell_type": "code",
   "execution_count": 9,
   "metadata": {},
   "outputs": [
    {
     "ename": "NameError",
     "evalue": "name 'x' is not defined",
     "output_type": "error",
     "traceback": [
      "\u001b[0;31m---------------------------------------------------------------------------\u001b[0m",
      "\u001b[0;31mNameError\u001b[0m                                 Traceback (most recent call last)",
      "\u001b[0;32m<ipython-input-9-93f18dbc0928>\u001b[0m in \u001b[0;36m<module>\u001b[0;34m\u001b[0m\n\u001b[0;32m----> 1\u001b[0;31m \u001b[0moverlap\u001b[0m\u001b[0;34m(\u001b[0m\u001b[0mx\u001b[0m\u001b[0;34m,\u001b[0m\u001b[0my\u001b[0m\u001b[0;34m,\u001b[0m\u001b[0mr\u001b[0m\u001b[0;34m,\u001b[0m\u001b[0mcircles\u001b[0m\u001b[0;34m)\u001b[0m\u001b[0;34m\u001b[0m\u001b[0;34m\u001b[0m\u001b[0m\n\u001b[0m",
      "\u001b[0;31mNameError\u001b[0m: name 'x' is not defined"
     ]
    }
   ],
   "source": [
    "overlap(x,y,r,circles)"
   ]
  },
  {
   "cell_type": "code",
   "execution_count": null,
   "metadata": {},
   "outputs": [],
   "source": [
    "for circle in circles:\n",
    "    #if (circle.x - x)*(circle.x - x) + (circle.y - y)*(circle.y - y) < (circle.r+r)*(circle.r+r):\n",
    "    print(circle)"
   ]
  },
  {
   "cell_type": "code",
   "execution_count": null,
   "metadata": {},
   "outputs": [],
   "source": [
    "cap = cv2.VideoCapture('depthData/depth_vids1/14.avi')\n",
    "ret, frame = cap.read()"
   ]
  },
  {
   "cell_type": "code",
   "execution_count": null,
   "metadata": {},
   "outputs": [],
   "source": [
    "frame = cv2.imread(direc+\"/127.jpg\")"
   ]
  },
  {
   "cell_type": "code",
   "execution_count": null,
   "metadata": {},
   "outputs": [],
   "source": [
    "gray = cv2.cvtColor(frame, cv2.COLOR_BGR2GRAY)\n",
    "gray = gray[100:350,350:920]\n"
   ]
  },
  {
   "cell_type": "code",
   "execution_count": null,
   "metadata": {},
   "outputs": [],
   "source": [
    "out = findHead(255-gray,show=1)"
   ]
  },
  {
   "cell_type": "code",
   "execution_count": null,
   "metadata": {},
   "outputs": [],
   "source": [
    "cnts = cv2.findContours(out.copy(), cv2.RETR_EXTERNAL,cv2.CHAIN_APPROX_SIMPLE)\n",
    "cnts = imutils.grab_contours(cnts)"
   ]
  },
  {
   "cell_type": "code",
   "execution_count": null,
   "metadata": {},
   "outputs": [],
   "source": [
    "for cnt in cnts:\n",
    "    area = cv2.contourArea(cnt)\n",
    "    ((x,y),r)= cv2.minEnclosingCircle(cnt)\n",
    "    area_circle = 22/7*r*r\n",
    "    cv2.circle(out, (int(x),int(y)), int(r), (255, 255, 255), 2)\n",
    "    displayx(out,\"\",1)\n",
    "    x,y,w,h = cv2.boundingRect(cnt)\n",
    "    \n",
    "    print(\"r\",r)\n",
    "    print(\"area\",area)\n",
    "    print(\"w/h\",w/h)\n",
    "    print(\"circle_area\",area_circle)\n",
    "    print(\"ratio\",area/area_circle)\n"
   ]
  },
  {
   "cell_type": "code",
   "execution_count": null,
   "metadata": {},
   "outputs": [],
   "source": [
    "plt.figure(figsize=(10, 8))\n",
    "\n",
    "cv2.circle(frame, (1000, 100), 100, (255, 255, 255), 2)\n",
    "plt.imshow(frame)"
   ]
  },
  {
   "cell_type": "code",
   "execution_count": null,
   "metadata": {},
   "outputs": [],
   "source": [
    "plt.hist(gray.ravel(),bins='auto')"
   ]
  },
  {
   "cell_type": "code",
   "execution_count": null,
   "metadata": {},
   "outputs": [],
   "source": [
    "img1 = np.copy(255-gray)\n",
    "img2= np.copy(255-gray)\n",
    "img1[img1<160]=0\n",
    "img1[img1>235]=0\n",
    "plt.imshow(img1)"
   ]
  },
  {
   "cell_type": "code",
   "execution_count": null,
   "metadata": {},
   "outputs": [],
   "source": [
    "plt.hist(img1.ravel(),bins='auto')"
   ]
  },
  {
   "cell_type": "code",
   "execution_count": null,
   "metadata": {},
   "outputs": [],
   "source": [
    "a=[[0,5,9],[2,1,3],[9,6,1]]"
   ]
  },
  {
   "cell_type": "code",
   "execution_count": null,
   "metadata": {},
   "outputs": [],
   "source": [
    "a"
   ]
  },
  {
   "cell_type": "code",
   "execution_count": null,
   "metadata": {},
   "outputs": [],
   "source": [
    "D=np.random.rand(3,3)"
   ]
  },
  {
   "cell_type": "code",
   "execution_count": null,
   "metadata": {},
   "outputs": [],
   "source": [
    "D"
   ]
  },
  {
   "cell_type": "code",
   "execution_count": null,
   "metadata": {},
   "outputs": [],
   "source": [
    "rows=D.min(axis=1).argsort()"
   ]
  },
  {
   "cell_type": "code",
   "execution_count": null,
   "metadata": {},
   "outputs": [],
   "source": [
    "D.argmin(axis=1)[rows]"
   ]
  },
  {
   "cell_type": "code",
   "execution_count": null,
   "metadata": {},
   "outputs": [],
   "source": [
    "rows"
   ]
  },
  {
   "cell_type": "code",
   "execution_count": null,
   "metadata": {},
   "outputs": [],
   "source": []
  }
 ],
 "metadata": {
  "kernelspec": {
   "display_name": "Python 3",
   "language": "python",
   "name": "python3"
  },
  "language_info": {
   "codemirror_mode": {
    "name": "ipython",
    "version": 3
   },
   "file_extension": ".py",
   "mimetype": "text/x-python",
   "name": "python",
   "nbconvert_exporter": "python",
   "pygments_lexer": "ipython3",
   "version": "3.6.8"
  }
 },
 "nbformat": 4,
 "nbformat_minor": 2
}
